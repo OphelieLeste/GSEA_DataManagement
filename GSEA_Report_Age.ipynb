{
 "cells": [
  {
   "cell_type": "markdown",
   "id": "0df2c209",
   "metadata": {},
   "source": [
    "Workflow to reorganise data from record to usuable information.\n",
    "\n",
    "Extract current age from ID information(in string format)."
   ]
  },
  {
   "cell_type": "code",
   "execution_count": 2,
   "id": "d8119ae7",
   "metadata": {},
   "outputs": [],
   "source": [
    "from astropy.io import fits\n",
    "from astropy.table import Table, join, vstack, Column\n",
    "from astropy.table import QTable\n",
    "from matplotlib import pyplot as plt\n",
    "import numpy as np\n",
    "import os\n",
    "import math as m\n",
    "import csv\n",
    "import pandas as pd\n",
    "from scipy.stats import ks_2samp, norm\n",
    "from scipy import stats\n",
    "import seaborn as sns\n",
    "from astropy.utils.data import get_pkg_data_filename\n",
    "from matplotlib.colors import LogNorm\n",
    "from astropy.nddata import Cutout2D\n",
    "from astropy.coordinates import ICRS, Galactic, FK4, FK5\n",
    "from matplotlib.patches import Rectangle\n",
    "np.set_printoptions(threshold=100000)\n",
    "import matplotlib.mlab as mlab\n",
    "import random\n",
    "from astropy.visualization import simple_norm\n",
    "import scipy.constants as constants\n",
    "from scipy.signal import find_peaks\n",
    "from astropy.io import fits\n",
    "from math import nan\n",
    "import re\n"
   ]
  },
  {
   "cell_type": "code",
   "execution_count": 24,
   "id": "f63bb7ce",
   "metadata": {},
   "outputs": [],
   "source": [
    "#function to convert list of integers into a single number\n",
    "\n",
    "def convert(list):\n",
    "     \n",
    "    # Converting integer list to string list\n",
    "    s = [str(i) for i in list]\n",
    "     \n",
    "    # Join list items using join()\n",
    "    res = int(\"\".join(s))\n",
    "     \n",
    "    return(res)"
   ]
  },
  {
   "cell_type": "code",
   "execution_count": 5,
   "id": "22a0c20f",
   "metadata": {},
   "outputs": [],
   "source": [
    "InfoTab = pd.read_excel('---') #local confidential file"
   ]
  },
  {
   "cell_type": "code",
   "execution_count": 56,
   "id": "a68a9ce2",
   "metadata": {},
   "outputs": [],
   "source": [
    "Year_Birth = []\n",
    "Age = []\n",
    "\n",
    "for i in range(len(InfoTab)):\n",
    "    \n",
    "    ID = InfoTab['NIC'][i]\n",
    "    ID_num = re.findall(r'\\d+', ID) #find digits in ID number (containing letters and numbers)\n",
    "    \n",
    "    ID_digits = [int(x) for x in str(ID_num[0])] # list of ID number digits\n",
    "    \n",
    "    DOB_year_list = [1,9, ID_digits[4], ID_digits[5]] #extract digits corresponding to date of birth in ID\n",
    "    \n",
    "    DOB_year = convert(DOB_year_list)\n",
    "    \n",
    "    age_2023 = 2023 - DOB_year #calculate age in 2023\n",
    "    \n",
    "    Year_Birth.append(DOB_year)\n",
    "    \n",
    "    Age.append(age_2023)\n",
    "    \n",
    "InfoTab['Year_of_Birth'] = Year_Birth\n",
    "InfoTab['Age_in_2023'] = Age\n"
   ]
  },
  {
   "cell_type": "code",
   "execution_count": 61,
   "id": "068317d5",
   "metadata": {},
   "outputs": [],
   "source": [
    "InfoTab.to_excel(\"GSEA_Report_age.xlsx\")  \n",
    "InfoTab.to_csv(\"GSEA_Report_age.csv\")  \n"
   ]
  },
  {
   "cell_type": "code",
   "execution_count": null,
   "id": "052a3560",
   "metadata": {},
   "outputs": [],
   "source": []
  }
 ],
 "metadata": {
  "kernelspec": {
   "display_name": "Python 3 (ipykernel)",
   "language": "python",
   "name": "python3"
  },
  "language_info": {
   "codemirror_mode": {
    "name": "ipython",
    "version": 3
   },
   "file_extension": ".py",
   "mimetype": "text/x-python",
   "name": "python",
   "nbconvert_exporter": "python",
   "pygments_lexer": "ipython3",
   "version": "3.9.12"
  }
 },
 "nbformat": 4,
 "nbformat_minor": 5
}
